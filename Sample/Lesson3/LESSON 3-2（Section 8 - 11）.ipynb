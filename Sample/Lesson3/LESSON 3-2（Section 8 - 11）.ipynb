{
 "cells": [
  {
   "cell_type": "markdown",
   "metadata": {},
   "source": [
    "# Section 8：1人分の月次データを集計しよう"
   ]
  },
  {
   "cell_type": "markdown",
   "metadata": {},
   "source": [
    "## Excelファイルの読み込み"
   ]
  },
  {
   "cell_type": "code",
   "execution_count": null,
   "metadata": {},
   "outputs": [],
   "source": [
    "import openpyxl"
   ]
  },
  {
   "cell_type": "code",
   "execution_count": null,
   "metadata": {},
   "outputs": [],
   "source": [
    "wb_members = openpyxl.load_workbook('従業員集約.xlsx', data_only=True)"
   ]
  },
  {
   "cell_type": "code",
   "execution_count": null,
   "metadata": {},
   "outputs": [],
   "source": [
    "wb_members.sheetnames"
   ]
  },
  {
   "cell_type": "code",
   "execution_count": null,
   "metadata": {},
   "outputs": [],
   "source": [
    "names = wb_members.sheetnames\n",
    "names"
   ]
  },
  {
   "cell_type": "code",
   "execution_count": null,
   "metadata": {},
   "outputs": [],
   "source": [
    "name = names[0]\n",
    "name"
   ]
  },
  {
   "cell_type": "markdown",
   "metadata": {},
   "source": [
    "## 2月分のデータを取得しよう"
   ]
  },
  {
   "cell_type": "code",
   "execution_count": null,
   "metadata": {},
   "outputs": [],
   "source": [
    "import pandas as pd"
   ]
  },
  {
   "cell_type": "code",
   "execution_count": null,
   "metadata": {},
   "outputs": [],
   "source": [
    "# nameには佐野和也が入っている\n",
    "df = pd.read_excel('従業員集約.xlsx', sheet_name=name)"
   ]
  },
  {
   "cell_type": "code",
   "execution_count": null,
   "metadata": {},
   "outputs": [],
   "source": [
    "# 先頭5行\n",
    "df.head()"
   ]
  },
  {
   "cell_type": "code",
   "execution_count": null,
   "metadata": {},
   "outputs": [],
   "source": [
    "import datetime"
   ]
  },
  {
   "cell_type": "code",
   "execution_count": null,
   "metadata": {},
   "outputs": [],
   "source": [
    "year = 2022\n",
    "month = 2\n",
    "start_date = datetime.date(year, month, 1)\n",
    "start_date"
   ]
  },
  {
   "cell_type": "code",
   "execution_count": null,
   "metadata": {},
   "outputs": [],
   "source": [
    "# 3月1日から1日差し引いた日付を取得\n",
    "end_date = (datetime.date(year, month+1, 1)\n",
    "            - datetime.timedelta(days=1))\n",
    "end_date"
   ]
  },
  {
   "cell_type": "code",
   "execution_count": null,
   "metadata": {},
   "outputs": [],
   "source": [
    "df['日付'].dt.date >= start_date"
   ]
  },
  {
   "cell_type": "code",
   "execution_count": null,
   "metadata": {},
   "outputs": [],
   "source": [
    "df['日付'].dt.date <= end_date"
   ]
  },
  {
   "cell_type": "code",
   "execution_count": null,
   "metadata": {},
   "outputs": [],
   "source": [
    "(df['日付'].dt.date >= start_date) & (df['日付'].dt.date <= end_date)"
   ]
  },
  {
   "cell_type": "code",
   "execution_count": null,
   "metadata": {},
   "outputs": [],
   "source": [
    "# df[先程の条件式]\n",
    "df_filtered = df[(df['日付'].dt.date >= start_date) \n",
    "                 & (df['日付'].dt.date <= end_date)]\n",
    "df_filtered"
   ]
  },
  {
   "cell_type": "markdown",
   "metadata": {},
   "source": [
    "## 合計作業時間を取得しよう"
   ]
  },
  {
   "cell_type": "code",
   "execution_count": null,
   "metadata": {},
   "outputs": [],
   "source": [
    "# 引数に指定したvalは各値になります\n",
    "def to_minute(val):\n",
    "    # 時間×60+分\n",
    "    return val.hour*60 + val.minute"
   ]
  },
  {
   "cell_type": "raw",
   "metadata": {},
   "source": [
    "df_filtered['作業時間'].apply(to_minute)"
   ]
  },
  {
   "cell_type": "code",
   "execution_count": null,
   "metadata": {},
   "outputs": [],
   "source": [
    "df_filtered['作業時間'].fillna(datetime.time())"
   ]
  },
  {
   "cell_type": "code",
   "execution_count": null,
   "metadata": {},
   "outputs": [],
   "source": [
    "df_filtered['作業時間'].fillna(datetime.time()).apply(to_minute)"
   ]
  },
  {
   "cell_type": "code",
   "execution_count": null,
   "metadata": {},
   "outputs": [],
   "source": [
    "df_filtered_fillna = df_filtered['作業時間'].fillna(datetime.time())\n",
    "working_hours = df_filtered_fillna.apply(to_minute)\n",
    "total_working_hour = working_hours.sum()/60\n",
    "total_working_hour"
   ]
  },
  {
   "cell_type": "code",
   "execution_count": null,
   "metadata": {},
   "outputs": [],
   "source": [
    "datum = {\n",
    "    '氏名': name,\n",
    "    '合計作業時間': total_working_hour\n",
    "}\n",
    "datum"
   ]
  },
  {
   "cell_type": "markdown",
   "metadata": {},
   "source": [
    "## まとめ"
   ]
  },
  {
   "cell_type": "code",
   "execution_count": null,
   "metadata": {},
   "outputs": [],
   "source": [
    "import openpyxl\n",
    "import pandas as pd\n",
    "import datetime\n",
    "\n",
    "def to_minute(val):\n",
    "    # 時間×60+分\n",
    "    return val.hour*60 + val.minute\n",
    "\n",
    "wb_members = openpyxl.load_workbook(\n",
    "    '従業員集約.xlsx', data_only=True)\n",
    "names = wb_members.sheetnames\n",
    "\n",
    "df = pd.read_excel('従業員集約.xlsx', sheet_name=name)\n",
    "\n",
    "year = 2022\n",
    "month = 2\n",
    "start_date = datetime.date(year, month, 1)\n",
    "end_date = (datetime.date(year, month+1, 1)\n",
    "            - datetime.timedelta(days=1))\n",
    "\n",
    "# df[条件式]で指定期間内のデータを抽出\n",
    "df_filtered = df[(df['日付'].dt.date >= start_date) \n",
    "                 & (df['日付'].dt.date <= end_date)]\n",
    "\n",
    "df_filtered_fillna = df_filtered['作業時間'].fillna(\n",
    "    datetime.time())\n",
    "working_hours = df_filtered_fillna.apply(to_minute)\n",
    "total_working_hour = working_hours.sum()/60\n",
    "\n",
    "datum = {\n",
    "    '氏名': name,\n",
    "    '合計作業時間': total_working_hour\n",
    "}\n",
    "datum"
   ]
  },
  {
   "cell_type": "markdown",
   "metadata": {},
   "source": [
    "# Section 9：全員分の月次データを集計しよう"
   ]
  },
  {
   "cell_type": "code",
   "execution_count": null,
   "metadata": {},
   "outputs": [],
   "source": [
    "import openpyxl\n",
    "import pandas as pd\n",
    "import datetime\n",
    "\n",
    "def to_minute(val):\n",
    "    # 時間×60+分\n",
    "    return val.hour*60 + val.minute\n",
    "\n",
    "wb_members = openpyxl.load_workbook('従業員集約.xlsx', data_only=True)\n",
    "names = wb_members.sheetnames\n",
    "\n",
    "# 追記①\n",
    "data = []\n",
    "# for文に修正\n",
    "for name in names:\n",
    "    df = pd.read_excel('従業員集約.xlsx', sheet_name=name)\n",
    "\n",
    "    year = 2022\n",
    "    month = 2\n",
    "    start_date = datetime.date(year, month, 1)\n",
    "    end_date = (datetime.date(year, month+1, 1)\n",
    "                - datetime.timedelta(days=1))\n",
    "\n",
    "    # df[条件式]で指定期間内のデータを抽出\n",
    "    df_filtered = df[(df['日付'].dt.date >= start_date) \n",
    "                     & (df['日付'].dt.date <= end_date)]\n",
    "\n",
    "    df_filtered_fillna = df_filtered['作業時間'].fillna(datetime.time())\n",
    "    working_hours = df_filtered_fillna.apply(to_minute)\n",
    "    total_working_hour = working_hours.sum()/60\n",
    "\n",
    "    datum = {\n",
    "        '氏名': name,\n",
    "        '合計作業時間': total_working_hour\n",
    "    }\n",
    "    # 追記②\n",
    "    data.append(datum)"
   ]
  },
  {
   "cell_type": "code",
   "execution_count": null,
   "metadata": {},
   "outputs": [],
   "source": [
    "data"
   ]
  },
  {
   "cell_type": "code",
   "execution_count": null,
   "metadata": {},
   "outputs": [],
   "source": [
    "df_summary = pd.DataFrame(data)\n",
    "df_summary"
   ]
  },
  {
   "cell_type": "markdown",
   "metadata": {},
   "source": [
    "# Section10：集計データをExcelファイルへ出力しよう"
   ]
  },
  {
   "cell_type": "markdown",
   "metadata": {},
   "source": [
    "## 集計用Excelファイルを新規作成する"
   ]
  },
  {
   "cell_type": "code",
   "execution_count": null,
   "metadata": {},
   "outputs": [],
   "source": [
    "wb_summary = openpyxl.Workbook()\n",
    "# 集計.xlsxというファイル名でWorkbookを保存\n",
    "wb_summary.save('集計.xlsx')"
   ]
  },
  {
   "cell_type": "code",
   "execution_count": null,
   "metadata": {},
   "outputs": [],
   "source": [
    "# 集計.xlsxファイルを読み込む\n",
    "wb_summary = openpyxl.load_workbook('集計.xlsx', data_only=True)"
   ]
  },
  {
   "cell_type": "code",
   "execution_count": null,
   "metadata": {},
   "outputs": [],
   "source": [
    "# 作成した「2022年2月分」シートを変数ws_summaryに代入\n",
    "ws_summary = wb_summary.create_sheet(title=f'{year}年{month}月分')"
   ]
  },
  {
   "cell_type": "code",
   "execution_count": null,
   "metadata": {},
   "outputs": [],
   "source": [
    "# シートが作成されたかを確認\n",
    "wb_summary.sheetnames"
   ]
  },
  {
   "cell_type": "code",
   "execution_count": null,
   "metadata": {},
   "outputs": [],
   "source": [
    "wb_summary.remove(wb_summary['Sheet'])\n",
    "# 削除を反映するために保存\n",
    "wb_summary.save('集計.xlsx')"
   ]
  },
  {
   "cell_type": "markdown",
   "metadata": {},
   "source": [
    "## 集計データをExcelへ書き込む"
   ]
  },
  {
   "cell_type": "code",
   "execution_count": null,
   "metadata": {},
   "outputs": [],
   "source": [
    "# カラムの用意\n",
    "ws_summary['A1'] = '氏名'\n",
    "ws_summary['B1'] = '合計作業時間'\n",
    "\n",
    "ws_summary.column_dimensions['A'].width = 15\n",
    "ws_summary.column_dimensions['B'].width = 15"
   ]
  },
  {
   "cell_type": "code",
   "execution_count": null,
   "metadata": {},
   "outputs": [],
   "source": [
    "for index, row in df_summary.iterrows():\n",
    "    ws_summary.cell(row=index+2, column=1).value = row['氏名']\n",
    "    ws_summary.cell(row=index+2, column=2).value = row['合計作業時間']"
   ]
  },
  {
   "cell_type": "code",
   "execution_count": null,
   "metadata": {},
   "outputs": [],
   "source": [
    "wb_summary.save('集計.xlsx')"
   ]
  },
  {
   "cell_type": "markdown",
   "metadata": {},
   "source": [
    "# Section 11：Pythonファイルに出力処理をまとめる"
   ]
  },
  {
   "cell_type": "code",
   "execution_count": null,
   "metadata": {},
   "outputs": [],
   "source": [
    "text = '202203'\n",
    "text[:4]"
   ]
  },
  {
   "cell_type": "code",
   "execution_count": null,
   "metadata": {},
   "outputs": [],
   "source": [
    "text[4:]"
   ]
  },
  {
   "cell_type": "code",
   "execution_count": null,
   "metadata": {},
   "outputs": [],
   "source": [
    "year = int(text[:4])\n",
    "year"
   ]
  },
  {
   "cell_type": "code",
   "execution_count": null,
   "metadata": {},
   "outputs": [],
   "source": [
    "month = int(text[4:])\n",
    "month"
   ]
  },
  {
   "cell_type": "markdown",
   "metadata": {},
   "source": [
    "### 【注意】\n",
    "以下のプログラムは、ターミナルから実行する**Pythonファイル**として調整しています。<br>\n",
    "**ノートブック上ではエラーが発生**し、正常に実行できません。"
   ]
  },
  {
   "cell_type": "code",
   "execution_count": null,
   "metadata": {},
   "outputs": [],
   "source": [
    "import openpyxl\n",
    "import pandas as pd\n",
    "import datetime\n",
    "# 追加\n",
    "import sys\n",
    "args = sys.argv\n",
    "year = int(args[1][:4])\n",
    "month = int(args[1][4:])\n",
    "\n",
    "def to_minute(val):\n",
    "    return val.hour*60 + val.minute\n",
    "\n",
    "wb_members = openpyxl.load_workbook(\n",
    "    '従業員集約.xlsx', data_only=True)\n",
    "names = wb_members.sheetnames\n",
    "\n",
    "data = []\n",
    "for name in names:\n",
    "    df = pd.read_excel('従業員集約.xlsx', sheet_name=name)\n",
    "    start_date = datetime.date(year, month, 1)\n",
    "    end_date = (datetime.date(year, month+1, 1)\n",
    "                - datetime.timedelta(days=1))\n",
    "\n",
    "    df_filtered = df[(df['日付'].dt.date >= start_date) \n",
    "                     & (df['日付'].dt.date <= end_date)]\n",
    "    df_filtered_fillna = df_filtered['作業時間'].fillna(\n",
    "        datetime.time())\n",
    "    working_hours = df_filtered_fillna.apply(to_minute)\n",
    "    total_working_hour = working_hours.sum()/60\n",
    "\n",
    "    datum = {\n",
    "        '氏名': name,\n",
    "        '合計作業時間': total_working_hour\n",
    "    }\n",
    "    data.append(datum)\n",
    "\n",
    "df_summary = pd.DataFrame(data)\n",
    "\n",
    "wb_summary = openpyxl.load_workbook('集計.xlsx', data_only=True)\n",
    "ws_summary = wb_summary.create_sheet(title=f'{year}年{month}月分')\n",
    "\n",
    "ws_summary['A1'] = '氏名'\n",
    "ws_summary['B1'] = '合計作業時間'\n",
    "\n",
    "ws_summary.column_dimensions['A'].width = 15\n",
    "ws_summary.column_dimensions['B'].width = 15\n",
    "\n",
    "for index, row in df_summary.iterrows():\n",
    "    ws_summary.cell(row=index+2, column=1).value = row['氏名']\n",
    "    ws_summary.cell(row=index+2, column=2).value = row['合計作業時間']\n",
    "\n",
    "wb_summary.save('集計.xlsx')\n",
    "print(f'{year}年{month}月分の集計完了')"
   ]
  }
 ],
 "metadata": {
  "kernelspec": {
   "display_name": "Python 3",
   "language": "python",
   "name": "python3"
  },
  "language_info": {
   "codemirror_mode": {
    "name": "ipython",
    "version": 3
   },
   "file_extension": ".py",
   "mimetype": "text/x-python",
   "name": "python",
   "nbconvert_exporter": "python",
   "pygments_lexer": "ipython3",
   "version": "3.6.6+"
  }
 },
 "nbformat": 4,
 "nbformat_minor": 2
}
