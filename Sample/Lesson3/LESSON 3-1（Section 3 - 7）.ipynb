{
 "cells": [
  {
   "cell_type": "markdown",
   "metadata": {},
   "source": [
    "# Section 3：ExcelのデータをPythonで読み込んでみよう"
   ]
  },
  {
   "cell_type": "markdown",
   "metadata": {},
   "source": [
    "## JupyterLabからライブラリをインストールする"
   ]
  },
  {
   "cell_type": "code",
   "execution_count": null,
   "metadata": {},
   "outputs": [],
   "source": [
    "# Windowsの場合\n",
    "!pip install pandas\n",
    "!pip install openpyxl"
   ]
  },
  {
   "cell_type": "code",
   "execution_count": null,
   "metadata": {},
   "outputs": [],
   "source": [
    "# Macの場合\n",
    "!pip3 install pandas\n",
    "!pip3 install openpyxl"
   ]
  },
  {
   "cell_type": "code",
   "execution_count": null,
   "metadata": {},
   "outputs": [],
   "source": [
    "import pandas as pd\n",
    "import openpyxl\n",
    "from glob import glob\n",
    "import datetime"
   ]
  },
  {
   "cell_type": "markdown",
   "metadata": {},
   "source": [
    "## Excelファイルを読み込む"
   ]
  },
  {
   "cell_type": "code",
   "execution_count": null,
   "metadata": {},
   "outputs": [],
   "source": [
    "file_paths = glob('src/20220131/*.xlsx')\n",
    "file_paths"
   ]
  },
  {
   "cell_type": "code",
   "execution_count": null,
   "metadata": {},
   "outputs": [],
   "source": [
    "file_path = file_paths[0]\n",
    "file_path"
   ]
  },
  {
   "cell_type": "code",
   "execution_count": null,
   "metadata": {},
   "outputs": [],
   "source": [
    "# Excelファイルの読み込み（wb: workbookの略）\n",
    "wb = openpyxl.load_workbook(file_path)"
   ]
  },
  {
   "cell_type": "code",
   "execution_count": null,
   "metadata": {},
   "outputs": [],
   "source": [
    "wb"
   ]
  },
  {
   "cell_type": "code",
   "execution_count": null,
   "metadata": {},
   "outputs": [],
   "source": [
    "# シート名の取得\n",
    "wb.sheetnames"
   ]
  },
  {
   "cell_type": "markdown",
   "metadata": {},
   "source": [
    "## シートの読み込み"
   ]
  },
  {
   "cell_type": "code",
   "execution_count": null,
   "metadata": {},
   "outputs": [],
   "source": [
    "# シートの取得　（ws: worksheetの略）\n",
    "ws = wb['timesheet']\n",
    "ws"
   ]
  },
  {
   "cell_type": "markdown",
   "metadata": {},
   "source": [
    "## セルのオブジェクトと値を読み込む"
   ]
  },
  {
   "cell_type": "code",
   "execution_count": null,
   "metadata": {},
   "outputs": [],
   "source": [
    "ws['C3']"
   ]
  },
  {
   "cell_type": "code",
   "execution_count": null,
   "metadata": {},
   "outputs": [],
   "source": [
    "ws['C3'].value"
   ]
  },
  {
   "cell_type": "code",
   "execution_count": null,
   "metadata": {},
   "outputs": [],
   "source": [
    "# data_only=Trueを指定\n",
    "wb = openpyxl.load_workbook(file_path, data_only=True)\n",
    "# シートの取得（ws: worksheetの略）\n",
    "ws = wb['timesheet']\n",
    "# C3セルの値を取得\n",
    "ws['C3'].value"
   ]
  },
  {
   "cell_type": "markdown",
   "metadata": {},
   "source": [
    "# Section 4：Excelのシートから必要な情報を読み込もう"
   ]
  },
  {
   "cell_type": "code",
   "execution_count": null,
   "metadata": {},
   "outputs": [],
   "source": [
    "# 氏名\n",
    "name = ws['C3'].value\n",
    "name"
   ]
  },
  {
   "cell_type": "code",
   "execution_count": null,
   "metadata": {},
   "outputs": [],
   "source": [
    "ws['B6:F12']"
   ]
  },
  {
   "cell_type": "code",
   "execution_count": null,
   "metadata": {},
   "outputs": [],
   "source": [
    "type(ws['B6:F12'])"
   ]
  },
  {
   "cell_type": "raw",
   "metadata": {},
   "source": [
    "ws['B6:F12'].value"
   ]
  },
  {
   "cell_type": "code",
   "execution_count": null,
   "metadata": {},
   "outputs": [],
   "source": [
    "ws['B6:F12'][0]"
   ]
  },
  {
   "cell_type": "code",
   "execution_count": null,
   "metadata": {},
   "outputs": [],
   "source": [
    "ws['B6:F12'][0][0]"
   ]
  },
  {
   "cell_type": "code",
   "execution_count": null,
   "metadata": {},
   "outputs": [],
   "source": [
    "for row in ws['B6:F12']:\n",
    "    for cell in row:\n",
    "        print(cell)"
   ]
  },
  {
   "cell_type": "code",
   "execution_count": null,
   "metadata": {},
   "outputs": [],
   "source": [
    "datum = []\n",
    "for row in ws['B6:F12']:\n",
    "    # 各行の値を格納しておくリストrow_datumを用意\n",
    "    row_datum = []\n",
    "    for cell in row:\n",
    "        # セルの値をrow_datumに格納\n",
    "        row_datum.append(cell.value)\n",
    "    # 1行分の値が格納されたrow_datumをdatumに格納\n",
    "    datum.append(row_datum)\n",
    "datum"
   ]
  },
  {
   "cell_type": "code",
   "execution_count": null,
   "metadata": {},
   "outputs": [],
   "source": [
    "pd.DataFrame(datum)"
   ]
  },
  {
   "cell_type": "code",
   "execution_count": null,
   "metadata": {},
   "outputs": [],
   "source": [
    "datum[0][4]"
   ]
  },
  {
   "cell_type": "code",
   "execution_count": null,
   "metadata": {},
   "outputs": [],
   "source": [
    "datum[0][4] == datetime.datetime(1899, 12, 30, 0, 0)"
   ]
  },
  {
   "cell_type": "code",
   "execution_count": null,
   "metadata": {},
   "outputs": [],
   "source": [
    "datum = []\n",
    "for row in ws['B6:F12']:\n",
    "    row_datum = []\n",
    "    for cell in row:\n",
    "        basis_date = datetime.datetime(1899, 12, 30, 0, 0)\n",
    "        if cell.value == basis_date:\n",
    "            # セルの値が0:00だった場合、Noneを追加\n",
    "            row_datum.append(None)\n",
    "        else:\n",
    "            # セルの値が0:00ではなかった場合、セルの値をそのまま追加\n",
    "            row_datum.append(cell.value)\n",
    "    datum.append(row_datum)\n",
    "pd.DataFrame(datum)"
   ]
  },
  {
   "cell_type": "markdown",
   "metadata": {},
   "source": [
    "# Section 5：集約用のExcelファイルを準備しよう"
   ]
  },
  {
   "cell_type": "markdown",
   "metadata": {},
   "source": [
    "## 集約用のExcelファイルを作成する"
   ]
  },
  {
   "cell_type": "code",
   "execution_count": null,
   "metadata": {},
   "outputs": [],
   "source": [
    "# 新規Workbookオブジェクトを作成\n",
    "wb_members = openpyxl.Workbook()\n",
    "# 従業員集約.xlsxというファイル名でWorkbookを保存\n",
    "wb_members.save('従業員集約.xlsx')"
   ]
  },
  {
   "cell_type": "code",
   "execution_count": null,
   "metadata": {},
   "outputs": [],
   "source": [
    "wb_members.create_sheet(title=name)"
   ]
  },
  {
   "cell_type": "code",
   "execution_count": null,
   "metadata": {},
   "outputs": [],
   "source": [
    "wb_members.save('従業員集約.xlsx')"
   ]
  },
  {
   "cell_type": "code",
   "execution_count": null,
   "metadata": {},
   "outputs": [],
   "source": [
    "# 不要なシートを削除\n",
    "wb_members.remove(wb_members['Sheet'])\n",
    "# 削除を反映するために保存\n",
    "wb_members.save('従業員集約.xlsx')"
   ]
  },
  {
   "cell_type": "markdown",
   "metadata": {},
   "source": [
    "## カラム（列）の名前を設定しよう"
   ]
  },
  {
   "cell_type": "code",
   "execution_count": null,
   "metadata": {},
   "outputs": [],
   "source": [
    "# シートを指定\n",
    "ws_members = wb_members[name]\n",
    "# 各セルに値を入力\n",
    "ws_members['A1'].value = '日付'\n",
    "ws_members['B1'].value = '出勤時間'\n",
    "ws_members['C1'].value = '退勤時間'\n",
    "ws_members['D1'].value = '休憩時間'\n",
    "ws_members['E1'].value = '作業時間'"
   ]
  },
  {
   "cell_type": "code",
   "execution_count": null,
   "metadata": {},
   "outputs": [],
   "source": [
    "wb_members.save('従業員集約.xlsx')"
   ]
  },
  {
   "cell_type": "code",
   "execution_count": null,
   "metadata": {},
   "outputs": [],
   "source": [
    "ws_members.column_dimensions['A'].width = 15\n",
    "ws_members.column_dimensions['B'].width = 15\n",
    "ws_members.column_dimensions['C'].width = 15\n",
    "ws_members.column_dimensions['D'].width = 15\n",
    "ws_members.column_dimensions['E'].width = 15"
   ]
  },
  {
   "cell_type": "code",
   "execution_count": null,
   "metadata": {},
   "outputs": [],
   "source": [
    "wb_members.save('従業員集約.xlsx')"
   ]
  },
  {
   "cell_type": "markdown",
   "metadata": {},
   "source": [
    "## 勤怠情報を転記しよう"
   ]
  },
  {
   "cell_type": "code",
   "execution_count": null,
   "metadata": {},
   "outputs": [],
   "source": [
    "max_row = ws_members.max_row\n",
    "max_row"
   ]
  },
  {
   "cell_type": "code",
   "execution_count": null,
   "metadata": {},
   "outputs": [],
   "source": [
    "# row_numに1〜7の値が順番に入る\n",
    "for row_num in range(1, 8):\n",
    "    # column_numに1〜5の値が順番に入る\n",
    "    for column_num in range(1, 6):\n",
    "        # リストは0番目から始まるので-1する\n",
    "        ws_members.cell(\n",
    "            row=max_row+row_num, column=column_num\n",
    "        ).value = datum[row_num-1][column_num-1]"
   ]
  },
  {
   "cell_type": "code",
   "execution_count": null,
   "metadata": {},
   "outputs": [],
   "source": [
    "wb_members.save('従業員集約.xlsx')"
   ]
  },
  {
   "cell_type": "markdown",
   "metadata": {},
   "source": [
    "### 表示形式の設定"
   ]
  },
  {
   "cell_type": "code",
   "execution_count": null,
   "metadata": {},
   "outputs": [],
   "source": [
    "# 日付形式\n",
    "ws_members.cell(\n",
    "    row=max_row+row_num, column=column_num\n",
    ").number_format = 'yy/mm/dd'\n",
    "# 時刻形式\n",
    "ws_members.cell(\n",
    "    row=max_row+row_num, column=column_num\n",
    ").number_format = 'h:mm'"
   ]
  },
  {
   "cell_type": "code",
   "execution_count": null,
   "metadata": {},
   "outputs": [],
   "source": [
    "for row_num in range(1, 8):\n",
    "    for column_num in range(1,6):\n",
    "        # 1列目は日付形式、それ以外は時刻形式、という条件分岐\n",
    "        if column_num == 1:\n",
    "            ws_members.cell(\n",
    "                row=max_row+row_num, column=column_num\n",
    "            ).number_format = 'yyyy/m/d'\n",
    "        else:\n",
    "            ws_members.cell(\n",
    "                row=max_row+row_num, column=column_num\n",
    "            ).number_format = 'h:mm'\n",
    "        ws_members.cell(\n",
    "            row=max_row+row_num, column=column_num\n",
    "        ).value = datum[row_num-1][column_num-1]\n",
    "wb_members.save('従業員集約.xlsx')"
   ]
  },
  {
   "cell_type": "markdown",
   "metadata": {},
   "source": [
    "## まとめたコード"
   ]
  },
  {
   "cell_type": "code",
   "execution_count": null,
   "metadata": {},
   "outputs": [],
   "source": [
    "import openpyxl\n",
    "from glob import glob\n",
    "import datetime\n",
    "\n",
    "# 　＜---必要な情報の取得---＞\n",
    "file_paths = glob('src/20220131/*.xlsx')\n",
    "file_path = file_paths[0]\n",
    "wb = openpyxl.load_workbook(file_path, data_only=True)\n",
    "ws = wb['timesheet']\n",
    "\n",
    "name = ws['C3'].value\n",
    "datum = []\n",
    "for row in ws['B6:F12']:\n",
    "    row_datum = []\n",
    "    for cell in row:\n",
    "        basis_date = datetime.datetime(1899, 12, 30, 0, 0)\n",
    "        if cell.value == basis_date:\n",
    "            row_datum.append(None)            \n",
    "        else:\n",
    "            row_datum.append(cell.value)\n",
    "    datum.append(row_datum)\n",
    "\n",
    "# 　＜---勤怠情報の転記---＞    \n",
    "# 作成ずみの「従業員集約 .xlsx」を読み込む形に変更\n",
    "wb_members = openpyxl.load_workbook(\n",
    "    '従業員集約.xlsx', data_only=True)\n",
    "# シートが作成ずみかどうかで条件分岐\n",
    "if name not in wb_members.sheetnames:\n",
    "    # シートが作成されていなかったら作成し、カラム名、カラム幅を設定\n",
    "    wb_members.create_sheet(title=name)\n",
    "    ws_members = wb_members[name]\n",
    "\n",
    "    ws_members['A1'].value = '日付'\n",
    "    ws_members['B1'].value = '出勤時間'\n",
    "    ws_members['C1'].value = '退勤時間'\n",
    "    ws_members['D1'].value = '休憩時間'\n",
    "    ws_members['E1'].value = '作業時間'\n",
    "\n",
    "    ws_members.column_dimensions['A'].width = 15\n",
    "    ws_members.column_dimensions['B'].width = 15\n",
    "    ws_members.column_dimensions['C'].width = 15    \n",
    "    ws_members.column_dimensions['D'].width = 15    \n",
    "    ws_members.column_dimensions['E'].width = 15    \n",
    "\n",
    "else:\n",
    "    # シートが作成されていたら、そのシートを読み込む\n",
    "    ws_members = wb_members[name]\n",
    "\n",
    "max_row = ws_members.max_row\n",
    "\n",
    "for row_num in range(1, 8):\n",
    "    for column_num in range(1,6):\n",
    "        if column_num == 1:\n",
    "            ws_members.cell(\n",
    "                row=max_row+row_num, column=column_num\n",
    "            ).number_format = 'yyyy/m/d'\n",
    "        else:\n",
    "            ws_members.cell(\n",
    "                row=max_row+row_num, column=column_num\n",
    "            ).number_format = 'h:mm'\n",
    "        ws_members.cell(\n",
    "            row=max_row+row_num, column=column_num\n",
    "        ).value = datum[row_num-1][column_num-1]\n",
    "\n",
    "wb_members.save('従業員集約.xlsx')"
   ]
  },
  {
   "cell_type": "markdown",
   "metadata": {},
   "source": [
    "# Section 6：全員の勤怠情報を1つのファイルに集約しよう"
   ]
  },
  {
   "cell_type": "markdown",
   "metadata": {},
   "source": [
    "## まとめて処理する用のプログラム"
   ]
  },
  {
   "cell_type": "code",
   "execution_count": null,
   "metadata": {},
   "outputs": [],
   "source": [
    "import openpyxl\n",
    "from glob import glob\n",
    "import datetime\n",
    "\n",
    "# 　＜---必要な情報の取得---＞\n",
    "file_paths = glob('src/20220131/*.xlsx')\n",
    "# 変更部分：従業員集約.xlsxの読み込みを上部に移動\n",
    "wb_members = openpyxl.load_workbook(\n",
    "    '従業員集約.xlsx', data_only=True)\n",
    "for file_path in file_paths:\n",
    "    wb = openpyxl.load_workbook(file_path, data_only=True)\n",
    "    ws = wb['timesheet']\n",
    "\n",
    "    name = ws['C3'].value\n",
    "    datum = []\n",
    "    for row in ws['B6:F12']:\n",
    "        row_datum = []\n",
    "        for cell in row:\n",
    "            basis_date = datetime.datetime(1899, 12, 30, 0, 0)\n",
    "            if cell.value == basis_date:\n",
    "                row_datum.append(None)            \n",
    "            else:\n",
    "                row_datum.append(cell.value)\n",
    "        datum.append(row_datum)\n",
    "\n",
    "    # 　＜---勤怠情報の転記---＞    \n",
    "    # シートが作成ずみかどうかで条件分岐\n",
    "    if name not in wb_members.sheetnames:\n",
    "        # シートが作成されていなかったら作成し、カラム名、カラム幅を設定\n",
    "        wb_members.create_sheet(title=name)\n",
    "        ws_members = wb_members[name]\n",
    "\n",
    "        ws_members['A1'].value = '日付'\n",
    "        ws_members['B1'].value = '出勤時間'\n",
    "        ws_members['C1'].value = '退勤時間'\n",
    "        ws_members['D1'].value = '休憩時間'\n",
    "        ws_members['E1'].value = '作業時間'\n",
    "\n",
    "        ws_members.column_dimensions['A'].width = 15\n",
    "        ws_members.column_dimensions['B'].width = 15\n",
    "        ws_members.column_dimensions['C'].width = 15    \n",
    "        ws_members.column_dimensions['D'].width = 15    \n",
    "        ws_members.column_dimensions['E'].width = 15    \n",
    "\n",
    "    else:\n",
    "        # シートが作成されていたら、そのシートを読み込む\n",
    "        ws_members = wb_members[name]\n",
    "\n",
    "    max_row = ws_members.max_row\n",
    "\n",
    "    for row_num in range(1, 8):\n",
    "        for column_num in range(1,6):\n",
    "            if column_num == 1:\n",
    "                ws_members.cell(\n",
    "                    row=max_row+row_num, column=column_num\n",
    "                ).number_format = 'yyyy/m/d'\n",
    "            else:\n",
    "                ws_members.cell(\n",
    "                    row=max_row+row_num, column=column_num\n",
    "                ).number_format = 'h:mm'\n",
    "            ws_members.cell(\n",
    "                row=max_row+row_num, column=column_num\n",
    "            ).value = datum[row_num-1][column_num-1]\n",
    "\n",
    "    wb_members.save('従業員集約.xlsx')"
   ]
  },
  {
   "cell_type": "markdown",
   "metadata": {},
   "source": [
    "# Section 7：他の週次フォルダも処理できるようにしよう"
   ]
  },
  {
   "cell_type": "markdown",
   "metadata": {},
   "source": [
    "### 【注意】\n",
    "以下のプログラムは、ターミナルから実行する**Pythonファイル**として調整しています。<br>\n",
    "**ノートブック上ではエラーが発生**し、正常に実行できません。"
   ]
  },
  {
   "cell_type": "code",
   "execution_count": null,
   "metadata": {},
   "outputs": [],
   "source": [
    "import openpyxl\n",
    "from glob import glob\n",
    "import datetime\n",
    "\n",
    "# 追加\n",
    "import sys\n",
    "args = sys.argv\n",
    "\n",
    "# 　＜---必要な情報の取得---＞\n",
    "file_paths = glob(f'{args[1]}/*.xlsx')\n",
    "# 変更部分：従業員集約.xlsxの読み込みを上部に移動\n",
    "wb_members = openpyxl.load_workbook(\n",
    "    '従業員集約.xlsx', data_only=True)\n",
    "for file_path in file_paths:\n",
    "    wb = openpyxl.load_workbook(file_path, data_only=True)\n",
    "    ws = wb['timesheet']\n",
    "\n",
    "    name = ws['C3'].value\n",
    "    datum = []\n",
    "    for row in ws['B6:F12']:\n",
    "        row_datum = []\n",
    "        for cell in row:\n",
    "            basis_date = datetime.datetime(1899, 12, 30, 0, 0)\n",
    "            if cell.value == basis_date:\n",
    "                row_datum.append(None)            \n",
    "            else:\n",
    "                row_datum.append(cell.value)\n",
    "        datum.append(row_datum)\n",
    "\n",
    "    # 　＜---勤怠情報の転記---＞    \n",
    "    # シートが作成ずみかどうかで条件分岐\n",
    "    if name not in wb_members.sheetnames:\n",
    "        # シートが作成されていなかったら作成し、カラム名、カラム幅を設定\n",
    "        wb_members.create_sheet(title=name)\n",
    "        ws_members = wb_members[name]\n",
    "\n",
    "        ws_members['A1'].value = '日付'\n",
    "        ws_members['B1'].value = '出勤時間'\n",
    "        ws_members['C1'].value = '退勤時間'\n",
    "        ws_members['D1'].value = '休憩時間'\n",
    "        ws_members['E1'].value = '作業時間'\n",
    "\n",
    "        ws_members.column_dimensions['A'].width = 15\n",
    "        ws_members.column_dimensions['B'].width = 15\n",
    "        ws_members.column_dimensions['C'].width = 15    \n",
    "        ws_members.column_dimensions['D'].width = 15    \n",
    "        ws_members.column_dimensions['E'].width = 15    \n",
    "\n",
    "    else:\n",
    "        # シートが作成されていたら、そのシートを読み込む\n",
    "        ws_members = wb_members[name]\n",
    "\n",
    "    max_row = ws_members.max_row\n",
    "\n",
    "    for row_num in range(1, 8):\n",
    "        for column_num in range(1,6):\n",
    "            if column_num == 1:\n",
    "                ws_members.cell(\n",
    "                    row=max_row+row_num, column=column_num\n",
    "                ).number_format = 'yyyy/m/d'\n",
    "            else:\n",
    "                ws_members.cell(\n",
    "                    row=max_row+row_num, column=column_num\n",
    "                ).number_format = 'h:mm'\n",
    "            ws_members.cell(\n",
    "                row=max_row+row_num, column=column_num\n",
    "            ).value = datum[row_num-1][column_num-1]\n",
    "\n",
    "    wb_members.save('従業員集約.xlsx')\n",
    "\n",
    "# 追加\n",
    "print('集約完了')"
   ]
  }
 ],
 "metadata": {
  "kernelspec": {
   "display_name": "Python 3",
   "language": "python",
   "name": "python3"
  },
  "language_info": {
   "codemirror_mode": {
    "name": "ipython",
    "version": 3
   },
   "file_extension": ".py",
   "mimetype": "text/x-python",
   "name": "python",
   "nbconvert_exporter": "python",
   "pygments_lexer": "ipython3",
   "version": "3.6.6+"
  }
 },
 "nbformat": 4,
 "nbformat_minor": 2
}
