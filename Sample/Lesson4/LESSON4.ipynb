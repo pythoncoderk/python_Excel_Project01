{
 "cells": [
  {
   "cell_type": "markdown",
   "metadata": {},
   "source": [
    "# Section 3：広告宣伝費に応じた予想売上・予想利益を算出しよう"
   ]
  },
  {
   "cell_type": "markdown",
   "metadata": {},
   "source": [
    "## 費用・予想売上・予想利益を準備する"
   ]
  },
  {
   "cell_type": "code",
   "execution_count": null,
   "metadata": {},
   "outputs": [],
   "source": [
    "ad_cost = 20000000\n",
    "ad_cost"
   ]
  },
  {
   "cell_type": "code",
   "execution_count": null,
   "metadata": {},
   "outputs": [],
   "source": [
    "ad_cost = 2.0E+7\n",
    "ad_cost"
   ]
  },
  {
   "cell_type": "code",
   "execution_count": null,
   "metadata": {},
   "outputs": [],
   "source": [
    "ad_cost = 2000*1.0E+4\n",
    "ad_cost"
   ]
  },
  {
   "cell_type": "code",
   "execution_count": null,
   "metadata": {},
   "outputs": [],
   "source": [
    "# その他固定費（1,000万円）\n",
    "fixed_cost = 1000*1.0E+04\n",
    "fixed_cost"
   ]
  },
  {
   "cell_type": "code",
   "execution_count": null,
   "metadata": {},
   "outputs": [],
   "source": [
    "cost = ad_cost+fixed_cost\n",
    "cost"
   ]
  },
  {
   "cell_type": "markdown",
   "metadata": {},
   "source": [
    "## 予想売上を算出する関数の作成"
   ]
  },
  {
   "cell_type": "code",
   "execution_count": null,
   "metadata": {},
   "outputs": [],
   "source": [
    "import math\n",
    "math.log(10) # 自然対数"
   ]
  },
  {
   "cell_type": "code",
   "execution_count": null,
   "metadata": {},
   "outputs": [],
   "source": [
    "# 予想を売上を算出するための関数\n",
    "def calc_earnings(ad_cost):\n",
    "    earnings = 2.87E+07*math.log(ad_cost)-4.44E+08\n",
    "    # 計算結果に小数が含まれるため、小数点以下を切り捨てる\n",
    "    return int(earnings)"
   ]
  },
  {
   "cell_type": "code",
   "execution_count": null,
   "metadata": {},
   "outputs": [],
   "source": [
    "earnings = calc_earnings(ad_cost)\n",
    "earnings"
   ]
  },
  {
   "cell_type": "code",
   "execution_count": null,
   "metadata": {},
   "outputs": [],
   "source": [
    "# 売上 earnings, 費用 cost を引数にとる\n",
    "def calc_profit(earnings, cost):\n",
    "    profit = earnings-cost\n",
    "    # int型で返す\n",
    "    return int(profit)"
   ]
  },
  {
   "cell_type": "code",
   "execution_count": null,
   "metadata": {},
   "outputs": [],
   "source": [
    "profit = calc_profit(earnings, cost)\n",
    "profit"
   ]
  },
  {
   "cell_type": "code",
   "execution_count": null,
   "metadata": {},
   "outputs": [],
   "source": [
    "# 利益率\n",
    "profit_ratio = int((profit/earnings)*100)\n",
    "profit_ratio"
   ]
  },
  {
   "cell_type": "markdown",
   "metadata": {},
   "source": [
    "## 広告宣伝費の金額リストを準備する"
   ]
  },
  {
   "cell_type": "code",
   "execution_count": null,
   "metadata": {},
   "outputs": [],
   "source": [
    "# 先頭5行のみ表示（単位：万円）\n",
    "list(range(1000, 9001, 1))[:5]"
   ]
  },
  {
   "cell_type": "code",
   "execution_count": null,
   "metadata": {},
   "outputs": [],
   "source": [
    "# 末尾5行のみ表示（単位：万円）\n",
    "list(range(1000, 9001, 1))[-5:]"
   ]
  },
  {
   "cell_type": "code",
   "execution_count": null,
   "metadata": {},
   "outputs": [],
   "source": [
    "data_ad_cost = list(range(1000, 9001, 1))"
   ]
  },
  {
   "cell_type": "markdown",
   "metadata": {},
   "source": [
    "## 予想売上のリストを準備する"
   ]
  },
  {
   "cell_type": "code",
   "execution_count": null,
   "metadata": {},
   "outputs": [],
   "source": [
    "a = [1, 2, 3, 4, 5]\n",
    "b = [_a*10 for _a in a]\n",
    "b"
   ]
  },
  {
   "cell_type": "code",
   "execution_count": null,
   "metadata": {},
   "outputs": [],
   "source": [
    "a = [1, 2, 3, 4, 5]\n",
    "b = []\n",
    "for _a in a:\n",
    "    b.append(_a*10)\n",
    "b"
   ]
  },
  {
   "cell_type": "code",
   "execution_count": null,
   "metadata": {},
   "outputs": [],
   "source": [
    "data_earnings = [calc_earnings(ad_cost*1.0E+04)\n",
    "                 for ad_cost in data_ad_cost]\n",
    "data_earnings[:5]"
   ]
  },
  {
   "cell_type": "markdown",
   "metadata": {},
   "source": [
    "## 予想利益のリストを準備"
   ]
  },
  {
   "cell_type": "code",
   "execution_count": null,
   "metadata": {},
   "outputs": [],
   "source": [
    "a = [1, 2, 3]\n",
    "b = [4, 5, 6]\n",
    "c = []\n",
    "for _a, _b in zip(a, b):\n",
    "    print(_a, _b)\n",
    "    c.append(_a*_b)\n",
    "c"
   ]
  },
  {
   "cell_type": "code",
   "execution_count": null,
   "metadata": {},
   "outputs": [],
   "source": [
    "data_profit = [calc_profit(earnings, ad_cost*1.0E+04+fixed_cost) \n",
    "               for earnings, ad_cost\n",
    "               in zip(data_earnings, data_ad_cost)]\n",
    "data_profit[:5]"
   ]
  },
  {
   "cell_type": "code",
   "execution_count": null,
   "metadata": {},
   "outputs": [],
   "source": [
    "data_profit[1000]"
   ]
  },
  {
   "cell_type": "markdown",
   "metadata": {},
   "source": [
    "## 確認のためデータをプロットしてみる"
   ]
  },
  {
   "cell_type": "markdown",
   "metadata": {},
   "source": [
    "### ライブラリをインストールする"
   ]
  },
  {
   "cell_type": "raw",
   "metadata": {},
   "source": [
    "# Windowsの方\n",
    "!pip install matplotlib"
   ]
  },
  {
   "cell_type": "raw",
   "metadata": {},
   "source": [
    "# Macの方\n",
    "!pip3 install matplotlib"
   ]
  },
  {
   "cell_type": "markdown",
   "metadata": {},
   "source": [
    "### matplotlibライブラリで予想売上・利益をグラフで可視化する"
   ]
  },
  {
   "cell_type": "code",
   "execution_count": null,
   "metadata": {},
   "outputs": [],
   "source": [
    "import matplotlib.pyplot as plt\n",
    "# 予想売上を青色の折れ線グラフで可視化\n",
    "plt.plot(data_ad_cost, data_earnings, color='blue')\n",
    "# 予想利益を緑色の折れ線グラフで可視化\n",
    "plt.plot(data_ad_cost, data_profit, color='green')\n",
    "plt.show()"
   ]
  },
  {
   "cell_type": "markdown",
   "metadata": {},
   "source": [
    "## 予想最大利益と差異的な広告宣伝費の算出"
   ]
  },
  {
   "cell_type": "code",
   "execution_count": null,
   "metadata": {},
   "outputs": [],
   "source": [
    "max_profit = max(data_profit)\n",
    "max_profit"
   ]
  },
  {
   "cell_type": "code",
   "execution_count": null,
   "metadata": {},
   "outputs": [],
   "source": [
    "data_profit.index(max_profit)"
   ]
  },
  {
   "cell_type": "code",
   "execution_count": null,
   "metadata": {},
   "outputs": [],
   "source": [
    "best_ad_cost = data_ad_cost[data_profit.index(max_profit)]\n",
    "best_ad_cost"
   ]
  },
  {
   "cell_type": "markdown",
   "metadata": {},
   "source": [
    "## まとめ"
   ]
  },
  {
   "cell_type": "code",
   "execution_count": null,
   "metadata": {},
   "outputs": [],
   "source": [
    "import math\n",
    "\n",
    "ad_cost = 2000*1.0E+4\n",
    "fixed_cost = 1000*1.0E+04\n",
    "cost = ad_cost+fixed_cost\n",
    "\n",
    "def calc_earnings(ad_cost):\n",
    "    earnings = 2.87E+07*math.log(ad_cost)-4.44E+08\n",
    "    # 計算結果に小数が含まれるため、小数点以下を切り捨てる    \n",
    "    return int(earnings)\n",
    "\n",
    "def calc_profit(earnings, cost):\n",
    "    profit = earnings-cost\n",
    "    # int型で返す    \n",
    "    return int(profit)\n",
    "\n",
    "earnings = calc_earnings(ad_cost)\n",
    "profit = calc_profit(earnings, cost)\n",
    "profit_ratio = int((profit/earnings)*100)\n",
    "\n",
    "data_ad_cost = list(range(1000, 9001, 1))\n",
    "data_earnings = [calc_earnings(ad_cost*1.0E+04)\n",
    "                 for ad_cost in data_ad_cost]\n",
    "data_profit = [calc_profit(earnings, ad_cost*1.0E+04+fixed_cost) \n",
    "               for earnings, ad_cost \n",
    "               in zip(data_earnings, data_ad_cost)]\n",
    "\n",
    "max_profit = max(data_profit)\n",
    "best_ad_cost = data_ad_cost[data_profit.index(max_profit)]"
   ]
  },
  {
   "cell_type": "markdown",
   "metadata": {},
   "source": [
    "# Section 7：推移グラフでデータの変化を可視化しよう"
   ]
  },
  {
   "cell_type": "markdown",
   "metadata": {},
   "source": [
    "## ライブラリをインポートする"
   ]
  },
  {
   "cell_type": "code",
   "execution_count": null,
   "metadata": {},
   "outputs": [],
   "source": [
    "import math\n",
    "import streamlit as st\n",
    "import pandas as pd\n",
    "import altair as alt"
   ]
  },
  {
   "cell_type": "markdown",
   "metadata": {},
   "source": [
    "## 予想売上のデータフレーム（df_earnings）を作成する"
   ]
  },
  {
   "cell_type": "code",
   "execution_count": null,
   "metadata": {},
   "outputs": [],
   "source": [
    "df_earnings = pd.DataFrame()\n",
    "df_earnings['ad_cost'] = data_ad_cost\n",
    "df_earnings['value'] = data_earnings\n",
    "df_earnings['indicator'] = '売上'\n",
    "df_earnings"
   ]
  },
  {
   "cell_type": "markdown",
   "metadata": {},
   "source": [
    "## 予想利益のデータフレーム（df_profit）を作成する"
   ]
  },
  {
   "cell_type": "code",
   "execution_count": null,
   "metadata": {},
   "outputs": [],
   "source": [
    "df_profit = pd.DataFrame()\n",
    "df_profit['ad_cost'] = data_ad_cost\n",
    "df_profit['value'] = data_profit\n",
    "df_profit['indicator'] = '利益'\n",
    "df_profit"
   ]
  },
  {
   "cell_type": "markdown",
   "metadata": {},
   "source": [
    "## 2つのデータフレームを結合する"
   ]
  },
  {
   "cell_type": "code",
   "execution_count": null,
   "metadata": {},
   "outputs": [],
   "source": [
    "df = pd.concat([df_earnings, df_profit])\n",
    "df['value'] = df['value']/1.0E+04"
   ]
  },
  {
   "cell_type": "code",
   "execution_count": null,
   "metadata": {},
   "outputs": [],
   "source": [
    "df"
   ]
  }
 ],
 "metadata": {
  "kernelspec": {
   "display_name": "Python 3",
   "language": "python",
   "name": "python3"
  },
  "language_info": {
   "codemirror_mode": {
    "name": "ipython",
    "version": 3
   },
   "file_extension": ".py",
   "mimetype": "text/x-python",
   "name": "python",
   "nbconvert_exporter": "python",
   "pygments_lexer": "ipython3",
   "version": "3.6.6+"
  }
 },
 "nbformat": 4,
 "nbformat_minor": 2
}
