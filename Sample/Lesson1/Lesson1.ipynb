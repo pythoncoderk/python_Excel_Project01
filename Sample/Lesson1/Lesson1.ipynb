{
 "cells": [
  {
   "cell_type": "markdown",
   "id": "51ca98e4-afb8-4cee-ba0c-9cc47ce9b574",
   "metadata": {
    "id": "51ca98e4-afb8-4cee-ba0c-9cc47ce9b574"
   },
   "source": [
    "# Section 4：ファイルの作成日を取得しよう"
   ]
  },
  {
   "cell_type": "code",
   "execution_count": null,
   "id": "c5d5058e-3676-4a04-8ed1-0703c90b5d34",
   "metadata": {
    "id": "c5d5058e-3676-4a04-8ed1-0703c90b5d34"
   },
   "outputs": [],
   "source": [
    "# 面談記録_阿部恵利様.txtのファイルパス\n",
    "file_path = 'memo/面談記録_阿部恵利様.txt'"
   ]
  },
  {
   "cell_type": "code",
   "execution_count": null,
   "id": "a57b00db-1483-4425-b3e8-deeb48222af3",
   "metadata": {
    "id": "a57b00db-1483-4425-b3e8-deeb48222af3",
    "tags": []
   },
   "outputs": [],
   "source": [
    "import os"
   ]
  },
  {
   "cell_type": "code",
   "execution_count": null,
   "id": "3c7c77c8",
   "metadata": {
    "colab": {
     "base_uri": "https://localhost:8080/"
    },
    "executionInfo": {
     "elapsed": 321,
     "status": "ok",
     "timestamp": 1645503255042,
     "user": {
      "displayName": "澤田竹洋",
      "photoUrl": "https://lh3.googleusercontent.com/a-/AOh14GhPTI0WgwH5YaZ016qyM7yjt-KQmcOrwOFfyqxOHw=s64",
      "userId": "06596317484883812222"
     },
     "user_tz": -540
    },
    "id": "c392df1a-0f43-4b96-b120-1066031269e2",
    "outputId": "f3fa8e3a-bf75-4c48-b8e8-8ee9a44eee62"
   },
   "outputs": [],
   "source": [
    "stat = os.stat(file_path)\n",
    "print(stat)"
   ]
  },
  {
   "cell_type": "code",
   "execution_count": null,
   "id": "fb4f67cb-1f20-4b92-ac3e-9ee66a3eea28",
   "metadata": {
    "id": "fb4f67cb-1f20-4b92-ac3e-9ee66a3eea28"
   },
   "outputs": [],
   "source": [
    "created_time = stat.st_birthtime\n",
    "print(created_time)"
   ]
  },
  {
   "cell_type": "code",
   "execution_count": null,
   "id": "2560c9d9-7d4e-4f9f-9e7f-b4e7d0fedfd1",
   "metadata": {
    "id": "2560c9d9-7d4e-4f9f-9e7f-b4e7d0fedfd1"
   },
   "outputs": [],
   "source": [
    "import datetime"
   ]
  },
  {
   "cell_type": "code",
   "execution_count": null,
   "id": "dd281d5c-e859-44b3-8690-c5ec785d88fb",
   "metadata": {
    "id": "dd281d5c-e859-44b3-8690-c5ec785d88fb",
    "outputId": "4cba1041-55ed-484a-ea1e-673223753fe1"
   },
   "outputs": [],
   "source": [
    "print(datetime.datetime.fromtimestamp(created_time))"
   ]
  },
  {
   "cell_type": "code",
   "execution_count": null,
   "id": "8bb3d3e4-ab2f-4a3a-a14c-03c94a0baa02",
   "metadata": {
    "id": "8bb3d3e4-ab2f-4a3a-a14c-03c94a0baa02",
    "outputId": "e9e4fff0-ec6d-45bf-c99d-cb903cc58788"
   },
   "outputs": [],
   "source": [
    "created_time = datetime.datetime.fromtimestamp(\n",
    "    created_time)\n",
    "print(created_time)"
   ]
  },
  {
   "cell_type": "markdown",
   "id": "d3e26b67-2e27-4281-97b1-3d01f94b64c5",
   "metadata": {
    "id": "d3e26b67-2e27-4281-97b1-3d01f94b64c5"
   },
   "source": [
    "## Windowsの方"
   ]
  },
  {
   "cell_type": "markdown",
   "id": "c1eb7427-d9a6-4c78-8232-5690e3123d82",
   "metadata": {
    "id": "c1eb7427-d9a6-4c78-8232-5690e3123d82"
   },
   "source": [
    "Windowsでファイルの作成日時を取得するには、osの中にある`path.getctime()`を用いて、引数にファイルパスを入れます。"
   ]
  },
  {
   "cell_type": "code",
   "execution_count": null,
   "id": "dcb673c4",
   "metadata": {
    "id": "57954132-dcab-4067-b6e6-c64d8e2c055b"
   },
   "outputs": [],
   "source": [
    "created_time = os.path.getctime(file_path)\n",
    "print(created_time)"
   ]
  },
  {
   "cell_type": "code",
   "execution_count": null,
   "id": "cf3fd632",
   "metadata": {
    "colab": {
     "base_uri": "https://localhost:8080/"
    },
    "executionInfo": {
     "elapsed": 302,
     "status": "ok",
     "timestamp": 1645503789427,
     "user": {
      "displayName": "澤田竹洋",
      "photoUrl": "https://lh3.googleusercontent.com/a-/AOh14GhPTI0WgwH5YaZ016qyM7yjt-KQmcOrwOFfyqxOHw=s64",
      "userId": "06596317484883812222"
     },
     "user_tz": -540
    },
    "id": "aeca99b7-1a89-4ce3-85d9-95dcb219f5e0",
    "outputId": "3e7cb9de-fd06-4f55-8857-b05abe5af3ba"
   },
   "outputs": [],
   "source": [
    "import datetime\n",
    "created_time = datetime.datetime.fromtimestamp(\n",
    "    created_time)\n",
    "print(created_time)"
   ]
  },
  {
   "cell_type": "markdown",
   "id": "b87b8c10-7001-46de-8b12-340b56219a7a",
   "metadata": {
    "id": "b87b8c10-7001-46de-8b12-340b56219a7a"
   },
   "source": [
    "---"
   ]
  },
  {
   "cell_type": "markdown",
   "id": "977b7538-0c11-4fe1-82d6-5f11b93e5feb",
   "metadata": {
    "id": "977b7538-0c11-4fe1-82d6-5f11b93e5feb"
   },
   "source": [
    "## Mac、Windowsの方共通の部分"
   ]
  },
  {
   "cell_type": "code",
   "execution_count": null,
   "id": "d194f024-7702-4e64-a8d3-18b0e4142d58",
   "metadata": {
    "colab": {
     "base_uri": "https://localhost:8080/"
    },
    "executionInfo": {
     "elapsed": 335,
     "status": "ok",
     "timestamp": 1645503310334,
     "user": {
      "displayName": "澤田竹洋",
      "photoUrl": "https://lh3.googleusercontent.com/a-/AOh14GhPTI0WgwH5YaZ016qyM7yjt-KQmcOrwOFfyqxOHw=s64",
      "userId": "06596317484883812222"
     },
     "user_tz": -540
    },
    "id": "d194f024-7702-4e64-a8d3-18b0e4142d58",
    "outputId": "8a95ae09-88b9-4a4c-8c3c-1ff8367be061"
   },
   "outputs": [],
   "source": [
    "year = created_time.year\n",
    "print(year)"
   ]
  },
  {
   "cell_type": "code",
   "execution_count": null,
   "id": "3db97a6b-874f-40bb-949f-4f6d4476538f",
   "metadata": {
    "colab": {
     "base_uri": "https://localhost:8080/"
    },
    "executionInfo": {
     "elapsed": 441,
     "status": "ok",
     "timestamp": 1645503312488,
     "user": {
      "displayName": "澤田竹洋",
      "photoUrl": "https://lh3.googleusercontent.com/a-/AOh14GhPTI0WgwH5YaZ016qyM7yjt-KQmcOrwOFfyqxOHw=s64",
      "userId": "06596317484883812222"
     },
     "user_tz": -540
    },
    "id": "3db97a6b-874f-40bb-949f-4f6d4476538f",
    "outputId": "6ac54b26-6bc2-4eb2-d224-0fab4617cb04"
   },
   "outputs": [],
   "source": [
    "month = created_time.month\n",
    "print(month)"
   ]
  },
  {
   "cell_type": "code",
   "execution_count": null,
   "id": "11f5394f-5a70-4e60-a8c1-1bb12cf175d4",
   "metadata": {
    "colab": {
     "base_uri": "https://localhost:8080/"
    },
    "executionInfo": {
     "elapsed": 313,
     "status": "ok",
     "timestamp": 1645503315764,
     "user": {
      "displayName": "澤田竹洋",
      "photoUrl": "https://lh3.googleusercontent.com/a-/AOh14GhPTI0WgwH5YaZ016qyM7yjt-KQmcOrwOFfyqxOHw=s64",
      "userId": "06596317484883812222"
     },
     "user_tz": -540
    },
    "id": "11f5394f-5a70-4e60-a8c1-1bb12cf175d4",
    "outputId": "9876d48f-4a60-4335-d696-7b4091b5e7b2"
   },
   "outputs": [],
   "source": [
    "day = created_time.day\n",
    "print(day)"
   ]
  },
  {
   "cell_type": "markdown",
   "id": "05d293d2",
   "metadata": {},
   "source": [
    "# Section 5：これまで書いたコードを1つのセルにまとめよう"
   ]
  },
  {
   "cell_type": "code",
   "execution_count": null,
   "id": "93c545ab-571b-453c-931e-f3ec612c0ac0",
   "metadata": {
    "id": "93c545ab-571b-453c-931e-f3ec612c0ac0"
   },
   "outputs": [],
   "source": [
    "import os\n",
    "import datetime\n",
    "\n",
    "file_path = 'memo/面談記録_阿部恵利様.txt'\n",
    "\n",
    "# Windowsの方は、以下のコードで作成日時を取得\n",
    "# created_time = os.path.getctime(file_path)\n",
    "\n",
    "# Macの方はst_birthtimeで作成日時を取得\n",
    "stat = os.stat(file_path)\n",
    "created_time = stat.st_birthtime\n",
    "\n",
    "# タイムスタンプをdatetime型に変換\n",
    "created_time = datetime.datetime.fromtimestamp(created_time)\n",
    "\n",
    "year = created_time.year\n",
    "month = created_time.month\n",
    "day = created_time.day\n",
    "print(year, month, day)"
   ]
  },
  {
   "cell_type": "markdown",
   "id": "e0e9af01-bd55-4a20-9da8-44df36b58f78",
   "metadata": {
    "id": "e0e9af01-bd55-4a20-9da8-44df36b58f78"
   },
   "source": [
    "# Section 6：作成日をもとにファイル名を変更しよう"
   ]
  },
  {
   "cell_type": "code",
   "execution_count": null,
   "id": "2e2d7f3f-7ab8-4162-a767-8e4a4545054b",
   "metadata": {
    "colab": {
     "base_uri": "https://localhost:8080/"
    },
    "executionInfo": {
     "elapsed": 400,
     "status": "ok",
     "timestamp": 1645505641189,
     "user": {
      "displayName": "澤田竹洋",
      "photoUrl": "https://lh3.googleusercontent.com/a-/AOh14GhPTI0WgwH5YaZ016qyM7yjt-KQmcOrwOFfyqxOHw=s64",
      "userId": "06596317484883812222"
     },
     "user_tz": -540
    },
    "id": "2e2d7f3f-7ab8-4162-a767-8e4a4545054b",
    "outputId": "7ccb55e8-bc78-47b3-b523-06520ffba17d"
   },
   "outputs": [],
   "source": [
    "file_name = file_path.split('/')[1]\n",
    "print(file_name)"
   ]
  },
  {
   "cell_type": "code",
   "execution_count": null,
   "id": "354c9bbb-93ff-4d7d-a1c6-fa37af3c8d3a",
   "metadata": {
    "colab": {
     "base_uri": "https://localhost:8080/"
    },
    "executionInfo": {
     "elapsed": 306,
     "status": "ok",
     "timestamp": 1645506138827,
     "user": {
      "displayName": "澤田竹洋",
      "photoUrl": "https://lh3.googleusercontent.com/a-/AOh14GhPTI0WgwH5YaZ016qyM7yjt-KQmcOrwOFfyqxOHw=s64",
      "userId": "06596317484883812222"
     },
     "user_tz": -540
    },
    "id": "354c9bbb-93ff-4d7d-a1c6-fa37af3c8d3a",
    "outputId": "b365e9bd-eae1-48db-b2ea-0d2aa95f0d20"
   },
   "outputs": [],
   "source": [
    "new_file_name = f'{year}年{month}月{day}日_{file_name}'\n",
    "print(new_file_name)"
   ]
  },
  {
   "cell_type": "code",
   "execution_count": null,
   "id": "e269c40d-d9fd-444a-a0c6-b8652f288ad8",
   "metadata": {
    "id": "e269c40d-d9fd-444a-a0c6-b8652f288ad8"
   },
   "outputs": [],
   "source": [
    "os.rename(file_path, f'memo/{new_file_name}')"
   ]
  },
  {
   "cell_type": "code",
   "execution_count": null,
   "id": "d6dd7331",
   "metadata": {
    "id": "e5395d5f-928b-44ba-8d5c-397df1e862a0"
   },
   "outputs": [],
   "source": [
    "file_name = file_path.split('/')[1]\n",
    "new_file_name = f'{year}年{month}月{day}日_{file_name}'\n",
    "os.rename(file_path, f'memo/{new_file_name}')"
   ]
  },
  {
   "cell_type": "code",
   "execution_count": null,
   "id": "c736720d-26e9-4398-b856-94ef98ad4730",
   "metadata": {
    "colab": {
     "base_uri": "https://localhost:8080/"
    },
    "executionInfo": {
     "elapsed": 408,
     "status": "ok",
     "timestamp": 1645508273008,
     "user": {
      "displayName": "澤田竹洋",
      "photoUrl": "https://lh3.googleusercontent.com/a-/AOh14GhPTI0WgwH5YaZ016qyM7yjt-KQmcOrwOFfyqxOHw=s64",
      "userId": "06596317484883812222"
     },
     "user_tz": -540
    },
    "id": "c736720d-26e9-4398-b856-94ef98ad4730",
    "outputId": "23cc4c3c-3ad0-46a2-d818-449084ef776b"
   },
   "outputs": [],
   "source": [
    "# interviewフォルダが存在するか\n",
    "print(os.path.exists('interview'))\n",
    "# 2020年フォルダが存在するか\n",
    "print(os.path.exists('2020年'))\n",
    "# interviewフォルダの中に2020年フォルダが存在するか\n",
    "print(os.path.exists('interview/2020年'))\n",
    "# interviewフォルダの中に2021年フォルダが存在するか\n",
    "print(os.path.exists('interview/2021年'))"
   ]
  },
  {
   "cell_type": "code",
   "execution_count": null,
   "id": "a0d1c63d",
   "metadata": {
    "id": "71c11356-aef3-4178-833d-f716263b5462"
   },
   "outputs": [],
   "source": [
    "# フォルダが存在しない場合、if文内の処理を実行\n",
    "if not os.path.exists('interview/2021年/4月'):\n",
    "    # フォルダを作成    \n",
    "    os.makedirs('interview/2021年/4月')"
   ]
  },
  {
   "cell_type": "code",
   "execution_count": null,
   "id": "4c6a0833",
   "metadata": {},
   "outputs": [],
   "source": [
    "print(os.path.exists('test'))\n",
    "print(not os.path.exists('test'))\n",
    "\n",
    "if not os.path.exists('test'):\n",
    "    print('testフォルダは存在しません')"
   ]
  },
  {
   "cell_type": "code",
   "execution_count": null,
   "id": "7c652ae3-e75d-4aa9-96cb-f75d111aa782",
   "metadata": {
    "id": "7c652ae3-e75d-4aa9-96cb-f75d111aa782"
   },
   "outputs": [],
   "source": [
    "new_dir = f'interview/{year}年/{month}月'\n",
    "if not os.path.exists(new_dir):\n",
    "    os.makedirs(new_dir)"
   ]
  },
  {
   "cell_type": "markdown",
   "id": "bf7ea011",
   "metadata": {
    "id": "c9238906-de34-47ac-9004-e8b94746ba74"
   },
   "source": [
    "# Section 7：目的のフォルダにファイルを移動しよう"
   ]
  },
  {
   "cell_type": "code",
   "execution_count": null,
   "id": "1da8dd2f-37d4-4b69-8421-9d95323a99ba",
   "metadata": {
    "colab": {
     "base_uri": "https://localhost:8080/"
    },
    "executionInfo": {
     "elapsed": 283,
     "status": "ok",
     "timestamp": 1645509545803,
     "user": {
      "displayName": "澤田竹洋",
      "photoUrl": "https://lh3.googleusercontent.com/a-/AOh14GhPTI0WgwH5YaZ016qyM7yjt-KQmcOrwOFfyqxOHw=s64",
      "userId": "06596317484883812222"
     },
     "user_tz": -540
    },
    "id": "1da8dd2f-37d4-4b69-8421-9d95323a99ba",
    "outputId": "823132f3-494b-4f4a-b959-1d6fcd175be2"
   },
   "outputs": [],
   "source": [
    "# 移動前のファイルパス\n",
    "print(f'memo/{new_file_name}')\n",
    "# 移動先のファイルパス\n",
    "dest = f'interview/{year}年/{month}月/{new_file_name}'\n",
    "print(dest)"
   ]
  },
  {
   "cell_type": "code",
   "execution_count": null,
   "id": "7cb414de-e610-48d5-b3cf-c28a6158d52b",
   "metadata": {
    "id": "7cb414de-e610-48d5-b3cf-c28a6158d52b",
    "outputId": "e96569f2-1f89-409b-d388-9cb30f615651"
   },
   "outputs": [],
   "source": [
    "# ファイルの移動\n",
    "import shutil\n",
    "shutil.move(f'memo/{new_file_name}', dest)"
   ]
  },
  {
   "cell_type": "markdown",
   "id": "d1bd0ee7",
   "metadata": {},
   "source": [
    "## ここまでのまとめ"
   ]
  },
  {
   "cell_type": "code",
   "execution_count": null,
   "id": "2eb57d82-caa1-4e89-8728-04caed04369f",
   "metadata": {
    "id": "2eb57d82-caa1-4e89-8728-04caed04369f",
    "outputId": "fb149802-5d00-425c-e05a-abbf348ede72"
   },
   "outputs": [],
   "source": [
    "import os\n",
    "import datetime\n",
    "import shutil\n",
    "\n",
    "# ↓ファイルの作成日を取得↓\n",
    "# 先ほどと別のファイルを指定\n",
    "file_path = 'memo/面談記録_井口更紗様.txt'\n",
    "\n",
    "# Windowsの方は、以下のコードで作成日時を取得\n",
    "# created_time = os.path.getctime(file_path)\n",
    "\n",
    "# Macの方はst_birthtimeで作成日時を取得\n",
    "stat = os.stat(file_path)\n",
    "created_time = stat.st_birthtime\n",
    "\n",
    "# タイムスタンプをdatetime型に変換\n",
    "created_time = datetime.datetime.fromtimestamp(created_time)\n",
    "\n",
    "year = created_time.year\n",
    "month = created_time.month\n",
    "day = created_time.day\n",
    "\n",
    "# ↓ファイル名の変更↓\n",
    "file_name = file_path.split('/')[1]\n",
    "new_file_name = f'{year}年{month}月{day}日_{file_name}'\n",
    "os.rename(file_path, f'memo/{new_file_name}')\n",
    "\n",
    "# ↓フォルダの存在確認とフォルダの作成↓\n",
    "new_dir = f'interview/{year}年/{month}月'\n",
    "if not os.path.exists(new_dir):\n",
    "    os.makedirs(new_dir)\n",
    "    \n",
    "# ファイルの移動\n",
    "dest = f'interview/{year}年/{month}月/{new_file_name}'\n",
    "shutil.move(f'memo/{new_file_name}', dest)"
   ]
  },
  {
   "cell_type": "markdown",
   "id": "0dc96288-0edd-4311-805f-dc8aff90c793",
   "metadata": {
    "id": "0dc96288-0edd-4311-805f-dc8aff90c793"
   },
   "source": [
    "# Section 8：すべてのファイルを対象に処理を行おう"
   ]
  },
  {
   "cell_type": "code",
   "execution_count": null,
   "id": "67758e89-5c27-48c3-a53c-ce79fecdfacd",
   "metadata": {
    "id": "67758e89-5c27-48c3-a53c-ce79fecdfacd"
   },
   "outputs": [],
   "source": [
    "from glob import glob"
   ]
  },
  {
   "cell_type": "code",
   "execution_count": null,
   "id": "51459690",
   "metadata": {
    "id": "d669c216-971b-4b82-8776-56a60d3ebe32"
   },
   "outputs": [],
   "source": [
    "glob('*')"
   ]
  },
  {
   "cell_type": "code",
   "execution_count": null,
   "id": "f5afd93d",
   "metadata": {
    "id": "d669c216-971b-4b82-8776-56a60d3ebe32"
   },
   "outputs": [],
   "source": [
    "glob('*.ipynb')"
   ]
  },
  {
   "cell_type": "code",
   "execution_count": null,
   "id": "8ea8f551-b5d9-4af0-9746-f4f8929567bc",
   "metadata": {
    "id": "8ea8f551-b5d9-4af0-9746-f4f8929567bc",
    "outputId": "0c4560f3-2138-4940-8d37-464e7d7bc689"
   },
   "outputs": [],
   "source": [
    "file_paths = glob('memo/*.txt')\n",
    "print(file_paths[:5])"
   ]
  },
  {
   "cell_type": "code",
   "execution_count": null,
   "id": "0d97184e-a30d-4be6-9ffa-f2c53df9189c",
   "metadata": {
    "id": "0d97184e-a30d-4be6-9ffa-f2c53df9189c",
    "outputId": "87286904-abeb-45d9-c3e3-4a14b86f6a23"
   },
   "outputs": [],
   "source": [
    "# file_path = 'memo/面談記録_井口更紗様.txt'\n",
    "file_path = file_paths[0]\n",
    "print(file_path)"
   ]
  },
  {
   "cell_type": "code",
   "execution_count": null,
   "id": "3095b7fc",
   "metadata": {
    "id": "2eb57d82-caa1-4e89-8728-04caed04369f",
    "outputId": "fb149802-5d00-425c-e05a-abbf348ede72"
   },
   "outputs": [],
   "source": [
    "import os\n",
    "import datetime\n",
    "import shutil\n",
    "\n",
    "# file_path = 'memo/面談記録_井口更紗様.txt'\n",
    "file_paths = glob('memo/*.txt')\n",
    "file_path = file_paths[0]\n",
    "print(file_path)\n",
    "\n",
    "# Windowsの方は、以下のコードで作成日時を取得\n",
    "# created_time = os.path.getctime(file_path)\n",
    "\n",
    "# Macの方はst_birthtimeで作成日時を取得\n",
    "stat = os.stat(file_path)\n",
    "created_time = stat.st_birthtime\n",
    "\n",
    "# タイムスタンプをdatetime型に変換\n",
    "created_time = datetime.datetime.fromtimestamp(\n",
    "    created_time)\n",
    "\n",
    "year = created_time.year\n",
    "month = created_time.month\n",
    "day = created_time.day\n",
    "\n",
    "# Windowsの場合は区切り文字に'\\\\'を指定する\n",
    "file_name = file_path.split('/')[1]\n",
    "new_file_name = f'{year}年{month}月{day}日_{file_name}'\n",
    "os.rename(file_path, f'memo/{new_file_name}')\n",
    "\n",
    "# ↓フォルダの存在確認とフォルダの作成↓\n",
    "new_dir = f'interview/{year}年/{month}月'\n",
    "if not os.path.exists(new_dir):\n",
    "    os.makedirs(new_dir)\n",
    "    \n",
    "# ファイルの移動\n",
    "import shutil\n",
    "dest = f'interview/{year}年/{month}月/{new_file_name}'\n",
    "shutil.move(f'memo/{new_file_name}', dest)"
   ]
  },
  {
   "cell_type": "markdown",
   "id": "daa6604a",
   "metadata": {},
   "source": [
    "# Section 9：すべてのファイルをfor文で処理しよう"
   ]
  },
  {
   "cell_type": "code",
   "execution_count": null,
   "id": "4b3af4ed",
   "metadata": {},
   "outputs": [],
   "source": [
    "arr = ['A', 'B', 'C']\n",
    "for i in arr:\n",
    "    print(i)"
   ]
  },
  {
   "cell_type": "code",
   "execution_count": null,
   "id": "1682fbfe",
   "metadata": {
    "id": "fc2ac294-2f00-42bd-aab4-a817d7d10148"
   },
   "outputs": [],
   "source": [
    "import os\n",
    "import datetime\n",
    "import shutil\n",
    "from glob import glob\n",
    "\n",
    "file_paths = glob('memo/*.txt')\n",
    "# file_path = file_paths[0]\n",
    "\n",
    "for file_path in file_paths:\n",
    "    # Windowsの方は、以下のコードで作成日時を取得\n",
    "    # created_time = os.path.getctime(file_path)\n",
    "\n",
    "    # Macの方はst_birthtimeで作成日時を取得\n",
    "    stat = os.stat(file_path)\n",
    "    created_time = stat.st_birthtime\n",
    "\n",
    "    # タイムスタンプをdatetime型に変換\n",
    "    created_time = datetime.datetime.fromtimestamp(\n",
    "        created_time)\n",
    "\n",
    "    year = created_time.year\n",
    "    month = created_time.month\n",
    "    day = created_time.day\n",
    "\n",
    "    # ↓ファイル名の変更↓\n",
    "    # Windowsの場合は区切り文字に'\\\\'を指定する\n",
    "    file_name = file_path.split('/')[1]\n",
    "    new_file_name = f'{year}年{month}月{day}日_{file_name}'\n",
    "    os.rename(file_path, f'memo/{new_file_name}')\n",
    "\n",
    "    # ↓フォルダの存在確認とフォルダの作成↓\n",
    "    new_dir = f'interview/{year}年/{month}月'\n",
    "    if not os.path.exists(new_dir):\n",
    "        os.makedirs(new_dir)\n",
    "\n",
    "    # ファイルの移動\n",
    "    dest = f'interview/{year}年/{month}月/{new_file_name}'\n",
    "    shutil.move(f'memo/{new_file_name}', dest)"
   ]
  }
 ],
 "metadata": {
  "colab": {
   "collapsed_sections": [],
   "name": "ファイル整理.ipynb",
   "provenance": []
  },
  "kernelspec": {
   "display_name": "Python 3",
   "language": "python",
   "name": "python3"
  },
  "language_info": {
   "codemirror_mode": {
    "name": "ipython",
    "version": 3
   },
   "file_extension": ".py",
   "mimetype": "text/x-python",
   "name": "python",
   "nbconvert_exporter": "python",
   "pygments_lexer": "ipython3",
   "version": "3.6.6+"
  }
 },
 "nbformat": 4,
 "nbformat_minor": 5
}
